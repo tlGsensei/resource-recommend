{
 "cells": [
  {
   "cell_type": "code",
   "execution_count": 1,
   "metadata": {},
   "outputs": [],
   "source": [
    "import numpy as np\n",
    "import pandas as pd"
   ]
  },
  {
   "cell_type": "code",
   "execution_count": 2,
   "metadata": {},
   "outputs": [],
   "source": [
    "user_video = pd.read_csv('rel_user_video.csv', sep=',')\n",
    "user_video.columns = ['user_id', 'video_id']"
   ]
  },
  {
   "cell_type": "code",
   "execution_count": 4,
   "metadata": {},
   "outputs": [],
   "source": [
    "g = user_video.groupby('user_id')"
   ]
  },
  {
   "cell_type": "code",
   "execution_count": 7,
   "metadata": {},
   "outputs": [
    {
     "name": "stdout",
     "output_type": "stream",
     "text": [
      "('U_10003171',            user_id                            video_id\n",
      "101399  U_10003171  V_4f184a3de72d418caccbd3fa8624d5b6\n",
      "103309  U_10003171  V_7321f00db10b461f93039df886fe9e8f\n",
      "112849  U_10003171  V_a7389b5205234b00873eadf9d0b0d802\n",
      "115817  U_10003171  V_e41cb8134f8e4e7e90b8747d7e07642a\n",
      "162519  U_10003171  V_6620df2456314eaab8a92961dab2ac35\n",
      "183098  U_10003171  V_6ffd039dbf3844a794e48a11a331d4fb\n",
      "192809  U_10003171  V_86c18cd6ff2c42adb9d6809d0d64ce0a\n",
      "195341  U_10003171  V_778bed0107f043de82c8fb987fdc5b54\n",
      "195742  U_10003171  V_db10aa1c2def43fd95c122184cb1faa7\n",
      "195882  U_10003171  V_532fefe61ac6494a86928cc21c9bc9ab\n",
      "225171  U_10003171  V_beb3ed20d82849ef8979ed1350c0bca0\n",
      "225294  U_10003171  V_e8b59d6ee0c942478a9055d11b48a0d9)\n"
     ]
    }
   ],
   "source": [
    "cnt = 0\n",
    "\n",
    "for x in g:\n",
    "    if cnt == 1:\n",
    "        print(x)\n",
    "        break\n",
    "    cnt += 1"
   ]
  }
 ],
 "metadata": {
  "interpreter": {
   "hash": "bd968d6abf2c047296184dbbc45f189439fd5b890e4c7bbb547bde0bbbe65521"
  },
  "kernelspec": {
   "display_name": "Python 3.8.11 ('torch1.9')",
   "language": "python",
   "name": "python3"
  },
  "language_info": {
   "codemirror_mode": {
    "name": "ipython",
    "version": 3
   },
   "file_extension": ".py",
   "mimetype": "text/x-python",
   "name": "python",
   "nbconvert_exporter": "python",
   "pygments_lexer": "ipython3",
   "version": "3.8.11"
  },
  "orig_nbformat": 4
 },
 "nbformat": 4,
 "nbformat_minor": 2
}
