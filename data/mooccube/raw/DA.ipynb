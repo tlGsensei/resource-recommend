{
 "cells": [
  {
   "cell_type": "code",
   "execution_count": 215,
   "metadata": {},
   "outputs": [],
   "source": [
    "import json\n",
    "import pandas as pd\n",
    "import numpy as np\n",
    "import warnings\n",
    "import pickle as pkl\n",
    "from tqdm import tqdm\n",
    "\n",
    "from collections import Counter\n",
    "\n",
    "warnings.filterwarnings('ignore')"
   ]
  },
  {
   "cell_type": "code",
   "execution_count": 216,
   "metadata": {},
   "outputs": [],
   "source": [
    "is_save = True"
   ]
  },
  {
   "cell_type": "markdown",
   "metadata": {},
   "source": [
    "user actions"
   ]
  },
  {
   "cell_type": "code",
   "execution_count": 217,
   "metadata": {},
   "outputs": [],
   "source": [
    "def read_data(f):\n",
    "    data = []\n",
    "    for line in f.readlines():\n",
    "        data.append(json.loads(line))\n",
    "    return data\n",
    "\n",
    "try:\n",
    "    with open('./tuples/relations/user_actions.pkl', 'rb') as f:\n",
    "        user_action_df = pkl.load(f)\n",
    "except IOError:\n",
    "    with open('./tuples/relations/user_video_act.json', 'r') as f:\n",
    "        user_actions = read_data(f)\n",
    "\n",
    "    data = []\n",
    "    for ua in user_actions:\n",
    "        user_id = ua['id']\n",
    "        activity = ua['activity']\n",
    "        for act in activity:\n",
    "            course_id = act['course_id']\n",
    "            video_id = act['video_id']\n",
    "            watch_count = act['watching_count']\n",
    "            video_duration = act['video_duration']\n",
    "            watch_time = act['local_watching_time']\n",
    "            start_time = act['local_start_time']\n",
    "            end_time = act['local_end_time']\n",
    "            data.append([user_id, course_id, video_id, watch_count, video_duration, watch_time, start_time, end_time])\n",
    "\n",
    "    user_action_df = pd.DataFrame(data, columns=['user_id', 'course_id', 'video_id',\n",
    "                                            'watch_count', 'video_duration', \n",
    "                                            'watch_time', 'start_time', 'end_time'])\n",
    "    # store user actions to speed\n",
    "    with open('./tuples/relations/user_actions.pkl', 'wb') as f:\n",
    "        pkl.dump(user_action_df, f)"
   ]
  },
  {
   "cell_type": "code",
   "execution_count": 218,
   "metadata": {},
   "outputs": [],
   "source": [
    "user_video = pd.read_csv('./tuples/relations/rel_user_video.csv', sep=',')\n",
    "user_video.columns = ['user_id', 'video_id']"
   ]
  },
  {
   "cell_type": "code",
   "execution_count": 219,
   "metadata": {},
   "outputs": [],
   "source": [
    "user_action_df = pd.merge(user_action_df, user_video, on=['user_id', 'video_id'])"
   ]
  },
  {
   "cell_type": "code",
   "execution_count": 220,
   "metadata": {},
   "outputs": [
    {
     "data": {
      "text/plain": [
       "(1713, 4361, 1202, 1213)"
      ]
     },
     "execution_count": 220,
     "metadata": {},
     "output_type": "execute_result"
    }
   ],
   "source": [
    "# filter user and video less than 4\n",
    "user_counter = Counter(user_action_df['user_id'])\n",
    "selected_user_set = set(dict(filter(lambda x: x[1] >= 4, user_counter.items())).keys())\n",
    "\n",
    "video_counter = Counter(user_action_df['video_id'])\n",
    "selected_video_set = set(dict(filter(lambda x: x[1] >= 4, video_counter.items())).keys())\n",
    "\n",
    "len(selected_user_set), len(set(user_video['user_id'])), len(selected_video_set), len(set(user_video['video_id']))"
   ]
  },
  {
   "cell_type": "code",
   "execution_count": 221,
   "metadata": {},
   "outputs": [
    {
     "data": {
      "text/plain": [
       "126131"
      ]
     },
     "execution_count": 221,
     "metadata": {},
     "output_type": "execute_result"
    }
   ],
   "source": [
    "selected_user_action_df = user_action_df[user_action_df['video_id'].isin(selected_video_set) &\n",
    "                                         user_action_df['user_id'].isin(selected_user_set)]\n",
    "len(selected_user_action_df)"
   ]
  },
  {
   "cell_type": "code",
   "execution_count": 222,
   "metadata": {},
   "outputs": [
    {
     "data": {
      "text/html": [
       "<div>\n",
       "<style scoped>\n",
       "    .dataframe tbody tr th:only-of-type {\n",
       "        vertical-align: middle;\n",
       "    }\n",
       "\n",
       "    .dataframe tbody tr th {\n",
       "        vertical-align: top;\n",
       "    }\n",
       "\n",
       "    .dataframe thead th {\n",
       "        text-align: right;\n",
       "    }\n",
       "</style>\n",
       "<table border=\"1\" class=\"dataframe\">\n",
       "  <thead>\n",
       "    <tr style=\"text-align: right;\">\n",
       "      <th></th>\n",
       "      <th>user_id</th>\n",
       "      <th>course_id</th>\n",
       "      <th>video_id</th>\n",
       "      <th>watch_count</th>\n",
       "      <th>video_duration</th>\n",
       "      <th>watch_time</th>\n",
       "      <th>start_time</th>\n",
       "      <th>end_time</th>\n",
       "    </tr>\n",
       "  </thead>\n",
       "  <tbody>\n",
       "    <tr>\n",
       "      <th>0</th>\n",
       "      <td>U_8519784</td>\n",
       "      <td>C_course-v1:TsinghuaX+00740123_X+sp</td>\n",
       "      <td>V_02d3cac3665d43dfafb36b571d0c5fc2</td>\n",
       "      <td>1</td>\n",
       "      <td>366.0</td>\n",
       "      <td>187</td>\n",
       "      <td>2018-04-05 00:02:07</td>\n",
       "      <td>2018-04-05 00:05:14</td>\n",
       "    </tr>\n",
       "    <tr>\n",
       "      <th>1</th>\n",
       "      <td>U_8519784</td>\n",
       "      <td>C_course-v1:TsinghuaX+00740123_X+sp</td>\n",
       "      <td>V_05983f4ae5894752a8277c5f1802ff2e</td>\n",
       "      <td>7</td>\n",
       "      <td>708.0</td>\n",
       "      <td>398</td>\n",
       "      <td>2018-04-05 18:06:29</td>\n",
       "      <td>2018-04-07 23:28:12</td>\n",
       "    </tr>\n",
       "    <tr>\n",
       "      <th>2</th>\n",
       "      <td>U_8519784</td>\n",
       "      <td>C_course-v1:TsinghuaX+00740043X_2015_T2+sp</td>\n",
       "      <td>V_066642610d0d4dd8939f0271f933cfba</td>\n",
       "      <td>3</td>\n",
       "      <td>328.0</td>\n",
       "      <td>274</td>\n",
       "      <td>2018-02-18 23:46:34</td>\n",
       "      <td>2018-02-18 23:51:11</td>\n",
       "    </tr>\n",
       "  </tbody>\n",
       "</table>\n",
       "</div>"
      ],
      "text/plain": [
       "     user_id                                   course_id  \\\n",
       "0  U_8519784         C_course-v1:TsinghuaX+00740123_X+sp   \n",
       "1  U_8519784         C_course-v1:TsinghuaX+00740123_X+sp   \n",
       "2  U_8519784  C_course-v1:TsinghuaX+00740043X_2015_T2+sp   \n",
       "\n",
       "                             video_id  watch_count  video_duration  \\\n",
       "0  V_02d3cac3665d43dfafb36b571d0c5fc2            1           366.0   \n",
       "1  V_05983f4ae5894752a8277c5f1802ff2e            7           708.0   \n",
       "2  V_066642610d0d4dd8939f0271f933cfba            3           328.0   \n",
       "\n",
       "   watch_time           start_time             end_time  \n",
       "0         187  2018-04-05 00:02:07  2018-04-05 00:05:14  \n",
       "1         398  2018-04-05 18:06:29  2018-04-07 23:28:12  \n",
       "2         274  2018-02-18 23:46:34  2018-02-18 23:51:11  "
      ]
     },
     "execution_count": 222,
     "metadata": {},
     "output_type": "execute_result"
    }
   ],
   "source": [
    "selected_user_action_df.head(3)"
   ]
  },
  {
   "cell_type": "code",
   "execution_count": 223,
   "metadata": {},
   "outputs": [
    {
     "data": {
      "text/plain": [
       "('2015-12-22 14:45:34', '2020-04-16 21:41:20')"
      ]
     },
     "execution_count": 223,
     "metadata": {},
     "output_type": "execute_result"
    }
   ],
   "source": [
    "selected_user_action_df['start_time'].min(), selected_user_action_df['start_time'].max()"
   ]
  },
  {
   "cell_type": "code",
   "execution_count": 224,
   "metadata": {},
   "outputs": [],
   "source": [
    "selected_user_set = set(selected_user_action_df['user_id'])\n",
    "selected_video_set = set(selected_user_action_df['video_id'])"
   ]
  },
  {
   "cell_type": "markdown",
   "metadata": {},
   "source": [
    "course-video"
   ]
  },
  {
   "cell_type": "code",
   "execution_count": 225,
   "metadata": {},
   "outputs": [],
   "source": [
    "selected_course_set = set(selected_user_action_df['course_id'])\n",
    "\n",
    "course_video = pd.read_csv('./tuples/relations/rel_course_video.csv', sep=',')\n",
    "course_video.columns = ['course_id', 'video_id']\n",
    "selected_course_video = course_video[course_video['course_id'].isin(selected_course_set) &\n",
    "                                     course_video['video_id'].isin(selected_video_set)]"
   ]
  },
  {
   "cell_type": "code",
   "execution_count": 226,
   "metadata": {},
   "outputs": [
    {
     "data": {
      "text/html": [
       "<div>\n",
       "<style scoped>\n",
       "    .dataframe tbody tr th:only-of-type {\n",
       "        vertical-align: middle;\n",
       "    }\n",
       "\n",
       "    .dataframe tbody tr th {\n",
       "        vertical-align: top;\n",
       "    }\n",
       "\n",
       "    .dataframe thead th {\n",
       "        text-align: right;\n",
       "    }\n",
       "</style>\n",
       "<table border=\"1\" class=\"dataframe\">\n",
       "  <thead>\n",
       "    <tr style=\"text-align: right;\">\n",
       "      <th></th>\n",
       "      <th>course_id</th>\n",
       "      <th>course_name</th>\n",
       "    </tr>\n",
       "  </thead>\n",
       "  <tbody>\n",
       "    <tr>\n",
       "      <th>14</th>\n",
       "      <td>C_course-v1:UST+UST001+sp</td>\n",
       "      <td>网络技术与应用</td>\n",
       "    </tr>\n",
       "    <tr>\n",
       "      <th>27</th>\n",
       "      <td>C_course-v1:TsinghuaX+00740043X_2015_T2+sp</td>\n",
       "      <td>C++语言程序设计基础</td>\n",
       "    </tr>\n",
       "    <tr>\n",
       "      <th>28</th>\n",
       "      <td>C_course-v1:TsinghuaX+00740043_2x_2015_T2+sp</td>\n",
       "      <td>C++语言程序设计进阶</td>\n",
       "    </tr>\n",
       "    <tr>\n",
       "      <th>57</th>\n",
       "      <td>C_course-v1:MITx+6_00_1x+sp</td>\n",
       "      <td>计算机科学和Python编程导论</td>\n",
       "    </tr>\n",
       "    <tr>\n",
       "      <th>62</th>\n",
       "      <td>C_course-v1:TsinghuaX+30240184+sp</td>\n",
       "      <td>数据结构</td>\n",
       "    </tr>\n",
       "    <tr>\n",
       "      <th>65</th>\n",
       "      <td>C_course-v1:TsinghuaX+30240184_2X+sp</td>\n",
       "      <td>数据结构</td>\n",
       "    </tr>\n",
       "    <tr>\n",
       "      <th>66</th>\n",
       "      <td>C_course-v1:TsinghuaX+30240243X+sp</td>\n",
       "      <td>操作系统</td>\n",
       "    </tr>\n",
       "    <tr>\n",
       "      <th>99</th>\n",
       "      <td>C_course-v1:TsinghuaX+00740123_X+sp</td>\n",
       "      <td>Java程序设计</td>\n",
       "    </tr>\n",
       "    <tr>\n",
       "      <th>102</th>\n",
       "      <td>C_course-v1:JXUST+JXUST2016001+2016_T2</td>\n",
       "      <td>人工智能</td>\n",
       "    </tr>\n",
       "    <tr>\n",
       "      <th>355</th>\n",
       "      <td>C_course-v1:TsinghuaX+00740123X+2019_T1</td>\n",
       "      <td>Java程序设计</td>\n",
       "    </tr>\n",
       "    <tr>\n",
       "      <th>393</th>\n",
       "      <td>C_course-v1:TsinghuaX+00740043_1x+2019_T1</td>\n",
       "      <td>C++语言程序设计基础</td>\n",
       "    </tr>\n",
       "    <tr>\n",
       "      <th>397</th>\n",
       "      <td>C_course-v1:TsinghuaX+00740043_2x+2019_T1</td>\n",
       "      <td>C++语言程序设计进阶</td>\n",
       "    </tr>\n",
       "    <tr>\n",
       "      <th>536</th>\n",
       "      <td>C_course-v1:JXUST+JXUST2016001+2019_T1</td>\n",
       "      <td>人工智能</td>\n",
       "    </tr>\n",
       "    <tr>\n",
       "      <th>696</th>\n",
       "      <td>C_course-v1:HBNU+2019051509X+2019_T1</td>\n",
       "      <td>5G与人工智能</td>\n",
       "    </tr>\n",
       "  </tbody>\n",
       "</table>\n",
       "</div>"
      ],
      "text/plain": [
       "                                        course_id       course_name\n",
       "14                      C_course-v1:UST+UST001+sp           网络技术与应用\n",
       "27     C_course-v1:TsinghuaX+00740043X_2015_T2+sp       C++语言程序设计基础\n",
       "28   C_course-v1:TsinghuaX+00740043_2x_2015_T2+sp      C++语言程序设计进阶 \n",
       "57                    C_course-v1:MITx+6_00_1x+sp  计算机科学和Python编程导论\n",
       "62              C_course-v1:TsinghuaX+30240184+sp              数据结构\n",
       "65           C_course-v1:TsinghuaX+30240184_2X+sp              数据结构\n",
       "66             C_course-v1:TsinghuaX+30240243X+sp              操作系统\n",
       "99            C_course-v1:TsinghuaX+00740123_X+sp          Java程序设计\n",
       "102        C_course-v1:JXUST+JXUST2016001+2016_T2              人工智能\n",
       "355       C_course-v1:TsinghuaX+00740123X+2019_T1          Java程序设计\n",
       "393     C_course-v1:TsinghuaX+00740043_1x+2019_T1       C++语言程序设计基础\n",
       "397     C_course-v1:TsinghuaX+00740043_2x+2019_T1       C++语言程序设计进阶\n",
       "536        C_course-v1:JXUST+JXUST2016001+2019_T1              人工智能\n",
       "696          C_course-v1:HBNU+2019051509X+2019_T1           5G与人工智能"
      ]
     },
     "execution_count": 226,
     "metadata": {},
     "output_type": "execute_result"
    }
   ],
   "source": [
    "course = pd.read_csv('./tuples/entities/course.csv', sep=',')\n",
    "course.columns = ['course_id', 'course_name']\n",
    "\n",
    "selected_course_info = course[course['course_id'].isin(selected_course_set)]\n",
    "selected_course_info"
   ]
  },
  {
   "cell_type": "markdown",
   "metadata": {},
   "source": [
    "school"
   ]
  },
  {
   "cell_type": "code",
   "execution_count": 227,
   "metadata": {},
   "outputs": [],
   "source": [
    "school_course = pd.read_csv('./tuples/relations/rel_school_course.csv', sep=',')\n",
    "school_course.columns = ['school_id', 'course_id']\n",
    "\n",
    "selected_school_course = school_course[school_course['course_id'].isin(selected_course_set)]\n",
    "selected_school_set = set(selected_school_course['school_id'])"
   ]
  },
  {
   "cell_type": "markdown",
   "metadata": {},
   "source": [
    "teacher"
   ]
  },
  {
   "cell_type": "code",
   "execution_count": 228,
   "metadata": {},
   "outputs": [],
   "source": [
    "teacher_course = pd.read_csv('./tuples/relations/rel_teacher_course.csv', sep=',')\n",
    "teacher_course.columns = ['teacher_id', 'course_id']\n",
    "\n",
    "selected_teacher_course = teacher_course[teacher_course['course_id'].isin(selected_course_set)]\n",
    "selected_teacher_set = set(selected_teacher_course['teacher_id'])"
   ]
  },
  {
   "cell_type": "code",
   "execution_count": 229,
   "metadata": {},
   "outputs": [],
   "source": [
    "school_teacher = pd.read_csv('./tuples/relations/rel_school_teacher.csv', sep=',')\n",
    "school_teacher.columns = ['school_id', 'teacher_id']\n",
    "\n",
    "selected_school_teacher = school_teacher[school_teacher['school_id'].isin(selected_school_set) &\n",
    "                                         school_teacher['teacher_id'].isin(selected_teacher_set)]"
   ]
  },
  {
   "cell_type": "markdown",
   "metadata": {},
   "source": [
    "concept"
   ]
  },
  {
   "cell_type": "code",
   "execution_count": 230,
   "metadata": {},
   "outputs": [],
   "source": [
    "video_concept = pd.read_csv('./tuples/relations/rel_video_concept.csv', sep=',')\n",
    "video_concept.columns = ['video_id', 'concept_id']\n",
    "\n",
    "selected_video_concept = video_concept[video_concept['video_id'].isin(selected_video_set)]\n",
    "selected_concept_set = set(selected_video_concept['concept_id'])"
   ]
  },
  {
   "cell_type": "code",
   "execution_count": 231,
   "metadata": {},
   "outputs": [],
   "source": [
    "course_concept = pd.read_csv('./tuples/relations/rel_course_concept.csv', sep=',')\n",
    "course_concept.columns = ['course_id', 'concept_id']\n",
    "\n",
    "selected_course_concept = course_concept[(course_concept['course_id'].isin(selected_course_set)) & \\\n",
    "                                         (course_concept['concept_id'].isin(selected_concept_set))]"
   ]
  },
  {
   "cell_type": "code",
   "execution_count": 232,
   "metadata": {},
   "outputs": [],
   "source": [
    "field_concept = pd.read_csv('./tuples/relations/rel_field_concept.csv', sep=',')\n",
    "field_concept.columns = ['field_concept_id', 'concept_id']\n",
    "\n",
    "selected_field_concept = field_concept[field_concept['concept_id'].isin(selected_concept_set)]"
   ]
  },
  {
   "cell_type": "code",
   "execution_count": 233,
   "metadata": {},
   "outputs": [
    {
     "data": {
      "text/plain": [
       "27"
      ]
     },
     "execution_count": 233,
     "metadata": {},
     "output_type": "execute_result"
    }
   ],
   "source": [
    "len(selected_field_concept)"
   ]
  },
  {
   "cell_type": "code",
   "execution_count": 234,
   "metadata": {},
   "outputs": [],
   "source": [
    "concept_dependency = pd.read_csv('./tuples/relations/rel_prerequisite_dependency.csv', sep=',')\n",
    "concept_dependency.columns = ['start_concept_id', 'end_concept_id']\n",
    "\n",
    "selected_concept_dependency = concept_dependency[\n",
    "    (concept_dependency['start_concept_id'].isin(selected_concept_set)) & \\\n",
    "    (concept_dependency['end_concept_id'].isin(selected_concept_set))]"
   ]
  },
  {
   "cell_type": "code",
   "execution_count": 235,
   "metadata": {},
   "outputs": [],
   "source": [
    "parent_son_concept = pd.read_csv('./tuples/relations/parent-son.json', sep='\\t', header=None,\n",
    "                                 names=['p_concept_id', 's_concept_id'])\n",
    "selected_parent_son_concept = parent_son_concept[(parent_son_concept['p_concept_id'].isin(selected_concept_set)) | \\\n",
    "                                                 (parent_son_concept['s_concept_id'].isin(selected_concept_set))]"
   ]
  },
  {
   "cell_type": "code",
   "execution_count": 236,
   "metadata": {},
   "outputs": [
    {
     "data": {
      "text/plain": [
       "490"
      ]
     },
     "execution_count": 236,
     "metadata": {},
     "output_type": "execute_result"
    }
   ],
   "source": [
    "len(selected_parent_son_concept)"
   ]
  },
  {
   "cell_type": "code",
   "execution_count": 237,
   "metadata": {},
   "outputs": [
    {
     "name": "stdout",
     "output_type": "stream",
     "text": [
      "n_user: 1713\n",
      "n_video: 1202\n",
      "n_concept: 490\n",
      "n_course: 14\n",
      "n_school: 5\n",
      "n_teacher: 19\n",
      "n_user_video: 126131\n",
      "n_video_concept: 3952\n",
      "n_course_video: 1548\n",
      "n_course_concept: 1259\n",
      "n_school_course: 14\n",
      "n_school_teacher: 19\n",
      "n_teacher_course: 34\n",
      "n_field_concept: 27\n",
      "n_concept_dependency: 213\n",
      "n_parent_son_concept: 490\n",
      "n_avg_video_per_course: 85.85714285714286\n"
     ]
    }
   ],
   "source": [
    "print('n_user:', len(selected_user_set))\n",
    "print('n_video:', len(selected_video_set))\n",
    "print('n_concept:', len(selected_concept_set))\n",
    "print('n_course:', len(selected_course_set))\n",
    "print('n_school:', len(selected_school_set))\n",
    "print('n_teacher:', len(selected_teacher_set))\n",
    "\n",
    "print('n_user_video:', len(selected_user_action_df))\n",
    "print('n_video_concept:', len(selected_video_concept))\n",
    "print('n_course_video:', len(selected_course_video))\n",
    "print('n_course_concept:', len(selected_course_concept))\n",
    "print('n_school_course:', len(selected_school_course))\n",
    "print('n_school_teacher:', len(selected_school_teacher))\n",
    "print('n_teacher_course:', len(selected_teacher_course))\n",
    "\n",
    "print('n_field_concept:', len(selected_field_concept))\n",
    "print('n_concept_dependency:', len(selected_concept_dependency))\n",
    "print('n_parent_son_concept:', len(selected_parent_son_concept))\n",
    "\n",
    "print('n_avg_video_per_course:', len(selected_video_set) / len(selected_course_set))"
   ]
  },
  {
   "cell_type": "markdown",
   "metadata": {},
   "source": [
    "encoding"
   ]
  },
  {
   "cell_type": "code",
   "execution_count": 238,
   "metadata": {},
   "outputs": [],
   "source": [
    "def data2txt(data, path):\n",
    "    with open(path, 'w') as f:\n",
    "        for line in data:\n",
    "            line_str = ' '.join(str(x) for x in line) + '\\n'\n",
    "            f.write(line_str)"
   ]
  },
  {
   "cell_type": "code",
   "execution_count": 239,
   "metadata": {},
   "outputs": [],
   "source": [
    "user_id_map = [['org_user_id', 'new_user_id']]\n",
    "user_id_dict = {}\n",
    "id = 0\n",
    "for u in selected_user_set:\n",
    "    user_id_map.append([u, id])\n",
    "    user_id_dict[u] = id\n",
    "    id += 1\n",
    "\n",
    "if is_save:\n",
    "    data2txt(user_id_map, '../user_list.txt')"
   ]
  },
  {
   "cell_type": "code",
   "execution_count": 240,
   "metadata": {},
   "outputs": [],
   "source": [
    "selected_all_concept_set = set(selected_concept_set |\n",
    "                               set(selected_field_concept['field_concept_id']) | \n",
    "                               set(selected_parent_son_concept['p_concept_id']) |\n",
    "                               set(selected_parent_son_concept['s_concept_id']))"
   ]
  },
  {
   "cell_type": "code",
   "execution_count": 241,
   "metadata": {},
   "outputs": [],
   "source": [
    "video_id_map = [['org_video_id', 'new_video_id']]\n",
    "entity_id_dict = {}\n",
    "\n",
    "id = 0\n",
    "for v in selected_video_set:\n",
    "    video_id_map.append([v, id])\n",
    "    entity_id_dict[v] = id\n",
    "    id += 1\n",
    "\n",
    "if is_save:\n",
    "    data2txt(video_id_map, '../video_list.txt')\n",
    "\n",
    "entity_id_map = [['org_entity_id', 'new_entity_id']]\n",
    "entity_id_map += video_id_map[1:]\n",
    "\n",
    "for c in selected_all_concept_set:\n",
    "    entity_id_map.append([c, id])\n",
    "    entity_id_dict[c] = id\n",
    "    id += 1\n",
    "\n",
    "for c in selected_course_set:\n",
    "    entity_id_map.append([c, id])\n",
    "    entity_id_dict[c] = id\n",
    "    id += 1\n",
    "\n",
    "for s in selected_school_set:\n",
    "    entity_id_map.append([s, id])\n",
    "    entity_id_dict[s] = id\n",
    "    id += 1\n",
    "\n",
    "for t in selected_teacher_set:\n",
    "    entity_id_map.append([t, id])\n",
    "    entity_id_dict[t] = id\n",
    "    id += 1\n",
    "\n",
    "# course, video, concept, teacher and school\n",
    "for i in range(5):\n",
    "    entity_id_map.append([id + i, id + i])\n",
    "    entity_id_dict[id + i] = id + i\n",
    "\n",
    "if is_save:\n",
    "    data2txt(entity_id_map, '../entity_list.txt')"
   ]
  },
  {
   "cell_type": "code",
   "execution_count": 242,
   "metadata": {},
   "outputs": [],
   "source": [
    "kg = []\n",
    "r_id = 0\n",
    "relation_list = []\n",
    "\n",
    "selected_video_concept['new_video_id'] = selected_video_concept['video_id'].map(entity_id_dict)\n",
    "selected_video_concept['new_concept_id'] = selected_video_concept['concept_id'].map(entity_id_dict)\n",
    "selected_video_concept['relation'] = r_id\n",
    "kg = selected_video_concept[['new_concept_id', 'relation', 'new_video_id']].values\n",
    "relation_list.append(['video-concept', r_id])\n",
    "\n",
    "r_id += 1\n",
    "selected_course_video['new_course_id'] = selected_course_video['course_id'].map(entity_id_dict)\n",
    "selected_course_video['new_video_id'] = selected_course_video['video_id'].map(entity_id_dict)\n",
    "selected_course_video['relation'] = r_id\n",
    "kg = np.concatenate([kg, selected_course_video[['new_video_id', 'relation', 'new_course_id']].values])\n",
    "relation_list.append(['course-video', r_id])\n",
    "\n",
    "r_id += 1\n",
    "selected_course_concept['new_course_id'] = selected_course_concept['course_id'].map(entity_id_dict)\n",
    "selected_course_concept['new_concept_id'] = selected_course_concept['concept_id'].map(entity_id_dict)\n",
    "selected_course_concept['relation'] = r_id\n",
    "kg = np.concatenate([kg, selected_course_concept[['new_concept_id', 'relation', 'new_course_id']]])\n",
    "relation_list.append(['course-concept', r_id])\n",
    "\n",
    "r_id += 1\n",
    "selected_school_course['new_school_id'] = selected_school_course['school_id'].map(entity_id_dict)\n",
    "selected_school_course['new_course_id'] = selected_school_course['course_id'].map(entity_id_dict)\n",
    "selected_school_course['relation'] = r_id\n",
    "kg = np.concatenate([kg, selected_school_course[['new_school_id', 'relation', 'new_course_id']]])\n",
    "relation_list.append(['school-course', r_id])\n",
    "\n",
    "r_id += 1\n",
    "selected_teacher_course['new_teacher_id'] = selected_teacher_course['teacher_id'].map(entity_id_dict)\n",
    "selected_teacher_course['new_course_id'] = selected_teacher_course['course_id'].map(entity_id_dict)\n",
    "selected_teacher_course['relation'] = r_id\n",
    "kg = np.concatenate([kg, selected_teacher_course[['new_teacher_id', 'relation', 'new_course_id']]])\n",
    "relation_list.append(['teacher-course', r_id])\n",
    "\n",
    "r_id += 1\n",
    "selected_school_teacher['new_school_id'] = selected_school_teacher['school_id'].map(entity_id_dict)\n",
    "selected_school_teacher['new_teacher_id'] = selected_school_teacher['teacher_id'].map(entity_id_dict)\n",
    "selected_school_teacher['relation'] = r_id\n",
    "kg = np.concatenate([kg, selected_school_teacher[['new_school_id', 'relation', 'new_teacher_id']]])\n",
    "relation_list.append(['school-teacher', r_id])"
   ]
  },
  {
   "cell_type": "markdown",
   "metadata": {},
   "source": [
    "knowledge graph"
   ]
  },
  {
   "cell_type": "code",
   "execution_count": 243,
   "metadata": {},
   "outputs": [],
   "source": [
    "# knowledge node\n",
    "r_id += 1\n",
    "selected_field_concept['new_field_concept_id'] = selected_field_concept['field_concept_id'].map(entity_id_dict)\n",
    "selected_field_concept['new_concept_id'] = selected_field_concept['concept_id'].map(entity_id_dict)\n",
    "selected_field_concept['relation'] = r_id\n",
    "kg = np.concatenate([kg, selected_field_concept[['new_concept_id', 'relation', 'new_field_concept_id']]])\n",
    "relation_list.append(['concept-field_concept', r_id])\n",
    "\n",
    "r_id += 1\n",
    "selected_concept_dependency['new_start_concept_id'] = selected_concept_dependency['start_concept_id'].map(entity_id_dict)\n",
    "selected_concept_dependency['new_end_concept_id'] = selected_concept_dependency['end_concept_id'].map(entity_id_dict)\n",
    "selected_concept_dependency['relation'] = r_id\n",
    "kg = np.concatenate([kg, selected_concept_dependency[['new_start_concept_id', 'relation', 'new_end_concept_id']]])\n",
    "relation_list.append(['s_concept-e_concept', r_id])\n",
    "\n",
    "r_id += 1\n",
    "selected_parent_son_concept['new_p_concept_id'] = selected_parent_son_concept['p_concept_id'].map(entity_id_dict)\n",
    "selected_parent_son_concept['new_s_concept_id'] = selected_parent_son_concept['s_concept_id'].map(entity_id_dict)\n",
    "selected_parent_son_concept['relation'] = r_id\n",
    "kg = np.concatenate([kg, selected_parent_son_concept[['new_s_concept_id', 'relation', 'new_p_concept_id']]])\n",
    "relation_list.append(['s_concept-p_concept', r_id])"
   ]
  },
  {
   "cell_type": "code",
   "execution_count": 244,
   "metadata": {},
   "outputs": [],
   "source": [
    "# virtual node: course, video, concept, teacher, school\n",
    "r_id += 1\n",
    "course_df = pd.DataFrame({'new_course_id': list(set(selected_course_video['new_course_id']))})\n",
    "course_df['relation'] = r_id\n",
    "course_df['course_node_id'] = entity_id_map[-5][1]\n",
    "kg = np.concatenate([kg, course_df[['new_course_id', 'relation', 'course_node_id']]])\n",
    "relation_list.append(['course-course_node', r_id])\n",
    "\n",
    "r_id += 1\n",
    "video_df = pd.DataFrame({'new_video_id': list(set(selected_course_video['new_video_id']))})\n",
    "video_df['relation'] = r_id\n",
    "video_df['video_node_id'] = entity_id_map[-4][1]\n",
    "kg = np.concatenate([kg, video_df[['new_video_id', 'relation', 'video_node_id']]])\n",
    "relation_list.append(['video-video_node', r_id])\n",
    "\n",
    "r_id += 1\n",
    "concept_df = pd.DataFrame({'new_concept_id': list(entity_id_dict[x] for x in selected_all_concept_set)})\n",
    "concept_df['relation'] = r_id\n",
    "concept_df['concept_node_id'] = entity_id_map[-3][1]\n",
    "kg = np.concatenate([kg, concept_df[['new_concept_id', 'relation', 'concept_node_id']]])\n",
    "relation_list.append(['concept-concept_node', r_id])\n",
    "\n",
    "r_id += 1\n",
    "teacher_df = pd.DataFrame({'new_teacher_id': list(set(selected_school_teacher['new_teacher_id']))})\n",
    "teacher_df['relation'] = r_id\n",
    "teacher_df['teacher_node_id'] = entity_id_map[-2][1]\n",
    "kg = np.concatenate([kg, teacher_df[['new_teacher_id', 'relation', 'teacher_node_id']]])\n",
    "relation_list.append(['teacher-teacher_node', r_id])\n",
    "\n",
    "r_id += 1\n",
    "school_df = pd.DataFrame({'new_school_id': list(set(selected_school_teacher['new_school_id']))})\n",
    "school_df['relation'] = r_id\n",
    "school_df['school_node_id'] = entity_id_map[-1][1]\n",
    "kg = np.concatenate([kg, school_df[['new_school_id', 'relation', 'school_node_id']]])\n",
    "relation_list.append(['school-school_node', r_id])"
   ]
  },
  {
   "cell_type": "code",
   "execution_count": 245,
   "metadata": {},
   "outputs": [],
   "source": [
    "with open('./entities/course.json', 'r') as f:\n",
    "    selected_video_video_list = []\n",
    "    selected_video_video_pair_list = []\n",
    "    selected_video_course_dict = {}\n",
    "    for line in f.readlines():\n",
    "        data = json.loads(line)\n",
    "        c_id = data['id']\n",
    "        if c_id not in selected_course_set:\n",
    "            continue\n",
    "        selected_videos = list(filter(lambda x : x in selected_video_set, data['video_order']))\n",
    "        selected_videos_encoded = list(map(lambda x : entity_id_dict[x], selected_videos))\n",
    "        \n",
    "        for v in selected_videos_encoded:\n",
    "            selected_video_course_dict[v] = c_id\n",
    "\n",
    "        selected_video_video_list.append(selected_videos_encoded)\n",
    "        \n",
    "        selected_videos_start = selected_videos_encoded[:-1]\n",
    "        selected_videos_end = selected_videos_encoded[1:]\n",
    "        selected_video_video_map = np.column_stack((selected_videos_start, selected_videos_end))\n",
    "    \n",
    "        selected_video_video_pair_list.extend(selected_video_video_map)\n",
    "        \n",
    "selected_video_video_df = pd.DataFrame(selected_video_video_pair_list, columns=['s_video_id', 'e_video_id'])"
   ]
  },
  {
   "cell_type": "code",
   "execution_count": 246,
   "metadata": {},
   "outputs": [],
   "source": [
    "# the realtion of videos in courses\n",
    "r_id += 1\n",
    "selected_video_video_df['new_s_video_id'] = selected_video_video_df['s_video_id']\n",
    "selected_video_video_df['new_e_video_id'] = selected_video_video_df['e_video_id']\n",
    "selected_video_video_df['relation'] = r_id\n",
    "kg = np.concatenate([kg, selected_video_video_df[['new_s_video_id', 'relation', 'new_e_video_id']]])\n",
    "relation_list.append(['s_video_id-e_video_id', r_id])"
   ]
  },
  {
   "cell_type": "code",
   "execution_count": 247,
   "metadata": {},
   "outputs": [],
   "source": [
    "# the orders between user actions\n",
    "selected_user_action_df['new_user_id'] = selected_user_action_df['user_id'].map(user_id_dict)\n",
    "selected_user_action_df['new_video_id'] = selected_user_action_df['video_id'].map(entity_id_dict)\n",
    "selected_user_action_df.sort_values(by='start_time', inplace=True)\n",
    "\n",
    "selected_user_videos_dict = dict(selected_user_action_df[['new_user_id','new_video_id']]\\\n",
    "                                .groupby('new_user_id')['new_video_id']\\\n",
    "                                .apply(list))\n",
    "\n",
    "selected_video_video_ua = []\n",
    "selected_video_video_ua_list = []\n",
    "for videos in selected_user_videos_dict.values():\n",
    "    selected_video_video_ua_list.append(videos)\n",
    "    selected_video_video_ua.extend(np.column_stack((videos[:-2], videos[1:-1])))\n",
    "selected_ua_df = pd.DataFrame(selected_video_video_ua, columns=['s_video_id', 'e_video_id'])"
   ]
  },
  {
   "cell_type": "code",
   "execution_count": 248,
   "metadata": {},
   "outputs": [],
   "source": [
    "# # the orders between user action videos\n",
    "r_id += 1\n",
    "selected_ua_df['relation'] = r_id\n",
    "kg = np.concatenate([kg, selected_ua_df[['s_video_id', 'relation', 'e_video_id']]])\n",
    "relation_list.append(['s_video_id-e_video_id-user_action', r_id])"
   ]
  },
  {
   "cell_type": "code",
   "execution_count": 249,
   "metadata": {},
   "outputs": [],
   "source": [
    "# all_video_video_order_list = np.concatenate((selected_video_video_list, selected_video_video_ua_list))"
   ]
  },
  {
   "cell_type": "code",
   "execution_count": 250,
   "metadata": {},
   "outputs": [],
   "source": [
    "if is_save:\n",
    "    data2txt(kg, '../kg_final.txt')\n",
    "    data2txt(relation_list, '../relation_list.txt')\n",
    "    data2txt(selected_video_video_pair_list, '../video_video_list.txt')\n",
    "    \n",
    "    with open('../video_course_dict.pkl', 'wb') as f:\n",
    "        pkl.dump(selected_video_course_dict, f)"
   ]
  },
  {
   "cell_type": "markdown",
   "metadata": {},
   "source": [
    "split train dataset and test dataset"
   ]
  },
  {
   "cell_type": "code",
   "execution_count": 251,
   "metadata": {},
   "outputs": [
    {
     "name": "stderr",
     "output_type": "stream",
     "text": [
      "100%|██████████| 1713/1713 [00:00<00:00, 189323.92it/s]\n"
     ]
    }
   ],
   "source": [
    "train_data = []\n",
    "test_data = []\n",
    "\n",
    "for user, videos in tqdm(selected_user_videos_dict.items()):\n",
    "    # train_len = int(len(videos) * 0.8)\n",
    "    # test_len = len(videos) - train_len\n",
    "    # train_candidates = random.sample(videos, train_len)\n",
    "    # test_candidates = list(filter(lambda x: x not in train_candidates, videos))\n",
    "    train_data.append([user] + videos[:-1])\n",
    "    test_data.append([user] + videos)"
   ]
  },
  {
   "cell_type": "code",
   "execution_count": 252,
   "metadata": {},
   "outputs": [],
   "source": [
    "if is_save:\n",
    "    data2txt(train_data, '../train.txt')\n",
    "    data2txt(test_data, '../test.txt')"
   ]
  },
  {
   "cell_type": "markdown",
   "metadata": {},
   "source": [
    "RecBole Dataset"
   ]
  },
  {
   "cell_type": "code",
   "execution_count": 294,
   "metadata": {},
   "outputs": [],
   "source": [
    "rec_data = selected_user_action_df[['new_user_id', 'new_video_id', 'start_time']]"
   ]
  },
  {
   "cell_type": "code",
   "execution_count": 295,
   "metadata": {},
   "outputs": [],
   "source": [
    "rec_data.columns = [\"user_id:token\", \"item_id:token\", 'timestamp:float']"
   ]
  },
  {
   "cell_type": "code",
   "execution_count": 296,
   "metadata": {},
   "outputs": [],
   "source": [
    "rec_data['timestamp:float'] = pd.to_datetime(rec_data['timestamp:float'])"
   ]
  },
  {
   "cell_type": "code",
   "execution_count": 297,
   "metadata": {},
   "outputs": [],
   "source": [
    "rec_data['timestamp:float'] = rec_data['timestamp:float'].astype('int64') // 1e9\n",
    "rec_data['timestamp:float'] = rec_data['timestamp:float'].astype('int64')"
   ]
  },
  {
   "cell_type": "code",
   "execution_count": 298,
   "metadata": {},
   "outputs": [
    {
     "data": {
      "text/html": [
       "<div>\n",
       "<style scoped>\n",
       "    .dataframe tbody tr th:only-of-type {\n",
       "        vertical-align: middle;\n",
       "    }\n",
       "\n",
       "    .dataframe tbody tr th {\n",
       "        vertical-align: top;\n",
       "    }\n",
       "\n",
       "    .dataframe thead th {\n",
       "        text-align: right;\n",
       "    }\n",
       "</style>\n",
       "<table border=\"1\" class=\"dataframe\">\n",
       "  <thead>\n",
       "    <tr style=\"text-align: right;\">\n",
       "      <th></th>\n",
       "      <th>user_id:token</th>\n",
       "      <th>item_id:token</th>\n",
       "      <th>timestamp:float</th>\n",
       "    </tr>\n",
       "  </thead>\n",
       "  <tbody>\n",
       "    <tr>\n",
       "      <th>8837</th>\n",
       "      <td>1080</td>\n",
       "      <td>902</td>\n",
       "      <td>1450795534</td>\n",
       "    </tr>\n",
       "    <tr>\n",
       "      <th>8841</th>\n",
       "      <td>1080</td>\n",
       "      <td>399</td>\n",
       "      <td>1450795844</td>\n",
       "    </tr>\n",
       "    <tr>\n",
       "      <th>36922</th>\n",
       "      <td>1054</td>\n",
       "      <td>1159</td>\n",
       "      <td>1450995949</td>\n",
       "    </tr>\n",
       "    <tr>\n",
       "      <th>37020</th>\n",
       "      <td>1054</td>\n",
       "      <td>1191</td>\n",
       "      <td>1450996695</td>\n",
       "    </tr>\n",
       "    <tr>\n",
       "      <th>36966</th>\n",
       "      <td>1054</td>\n",
       "      <td>399</td>\n",
       "      <td>1450997946</td>\n",
       "    </tr>\n",
       "    <tr>\n",
       "      <th>...</th>\n",
       "      <td>...</td>\n",
       "      <td>...</td>\n",
       "      <td>...</td>\n",
       "    </tr>\n",
       "    <tr>\n",
       "      <th>27404</th>\n",
       "      <td>2</td>\n",
       "      <td>455</td>\n",
       "      <td>1582047508</td>\n",
       "    </tr>\n",
       "    <tr>\n",
       "      <th>27405</th>\n",
       "      <td>2</td>\n",
       "      <td>455</td>\n",
       "      <td>1582047508</td>\n",
       "    </tr>\n",
       "    <tr>\n",
       "      <th>87603</th>\n",
       "      <td>119</td>\n",
       "      <td>982</td>\n",
       "      <td>1582102107</td>\n",
       "    </tr>\n",
       "    <tr>\n",
       "      <th>48425</th>\n",
       "      <td>5</td>\n",
       "      <td>1142</td>\n",
       "      <td>1582535607</td>\n",
       "    </tr>\n",
       "    <tr>\n",
       "      <th>77263</th>\n",
       "      <td>538</td>\n",
       "      <td>194</td>\n",
       "      <td>1587073280</td>\n",
       "    </tr>\n",
       "  </tbody>\n",
       "</table>\n",
       "<p>126131 rows × 3 columns</p>\n",
       "</div>"
      ],
      "text/plain": [
       "       user_id:token  item_id:token  timestamp:float\n",
       "8837            1080            902       1450795534\n",
       "8841            1080            399       1450795844\n",
       "36922           1054           1159       1450995949\n",
       "37020           1054           1191       1450996695\n",
       "36966           1054            399       1450997946\n",
       "...              ...            ...              ...\n",
       "27404              2            455       1582047508\n",
       "27405              2            455       1582047508\n",
       "87603            119            982       1582102107\n",
       "48425              5           1142       1582535607\n",
       "77263            538            194       1587073280\n",
       "\n",
       "[126131 rows x 3 columns]"
      ]
     },
     "execution_count": 298,
     "metadata": {},
     "output_type": "execute_result"
    }
   ],
   "source": [
    "rec_data"
   ]
  },
  {
   "cell_type": "code",
   "execution_count": 299,
   "metadata": {},
   "outputs": [],
   "source": [
    "rec_data.to_csv('./recbole/recbole.inter', sep='\\t', index=False)"
   ]
  },
  {
   "cell_type": "markdown",
   "metadata": {},
   "source": [
    "course completion rate"
   ]
  },
  {
   "cell_type": "code",
   "execution_count": 253,
   "metadata": {},
   "outputs": [],
   "source": [
    "from collections import defaultdict\n",
    "\n",
    "course_video_cnt_dict = dict(selected_course_video.groupby('course_id')['video_id'].count())\n",
    "selected_user_course_video_cnt_dict = dict(selected_user_action_df.groupby(['user_id', 'course_id'])['video_id'].count())\n",
    "\n",
    "complete_rate_list = []\n",
    "user_complete_rate_dict = defaultdict(list)\n",
    "\n",
    "for uc, cnt in selected_user_course_video_cnt_dict.items():\n",
    "    user, course = uc\n",
    "    complete_rate = cnt / course_video_cnt_dict[course]\n",
    "    complete_rate_list.append(complete_rate)\n",
    "    user_complete_rate_dict[user].append(complete_rate)"
   ]
  },
  {
   "cell_type": "code",
   "execution_count": 254,
   "metadata": {},
   "outputs": [
    {
     "data": {
      "image/png": "[encoded data removed]",
      "text/plain": [
       "<Figure size 640x480 with 1 Axes>"
      ]
     },
     "metadata": {},
     "output_type": "display_data"
    }
   ],
   "source": [
    "import matplotlib.pyplot as plt\n",
    "from matplotlib import ticker\n",
    "\n",
    "bins = [0, 0.1, 0.2, 0.3, 0.4, 0.5, 0.6, 0.7, 0.8, 0.9, 1.0]\n",
    "complete_rate_bins = pd.cut(complete_rate_list, bins=bins)\n",
    "complete_rate_bins.value_counts().plot(kind='bar')\n",
    "\n",
    "plt.rcParams['font.sans-serif']=['SimHei']\n",
    "plt.rcParams['axes.unicode_minus'] = False\n",
    "\n",
    "# plt.title('课程完成率统计图', fontdict={'size': 16})\n",
    "plt.xlabel('课程完成率', fontdict={'size': 16})\n",
    "plt.ylabel('学习者-课程交互数', fontdict={'size': 16})\n",
    "plt.show()"
   ]
  },
  {
   "cell_type": "code",
   "execution_count": 255,
   "metadata": {},
   "outputs": [
    {
     "data": {
      "text/plain": [
       "(0.0, 0.1]    3051\n",
       "(0.1, 0.2]     773\n",
       "(0.2, 0.3]     372\n",
       "(0.3, 0.4]     214\n",
       "(0.4, 0.5]     170\n",
       "(0.5, 0.6]     133\n",
       "(0.6, 0.7]     130\n",
       "(0.7, 0.8]     109\n",
       "(0.8, 0.9]     100\n",
       "(0.9, 1.0]      96\n",
       "dtype: int64"
      ]
     },
     "execution_count": 255,
     "metadata": {},
     "output_type": "execute_result"
    }
   ],
   "source": [
    "complete_rate_bins.value_counts()"
   ]
  },
  {
   "cell_type": "code",
   "execution_count": 256,
   "metadata": {},
   "outputs": [
    {
     "data": {
      "text/plain": [
       "(13, 977)"
      ]
     },
     "execution_count": 256,
     "metadata": {},
     "output_type": "execute_result"
    }
   ],
   "source": [
    "h_user_cnt = 0 # 高完成率用户数\n",
    "l_user_cnt = 0 # 低完成率用户数\n",
    "\n",
    "h_user_list = []\n",
    "l_user_list = []\n",
    "\n",
    "for u, cr_list in user_complete_rate_dict.items():\n",
    "    h_flag = 1\n",
    "    l_flag = 1\n",
    "    for cr in cr_list:\n",
    "        if cr <= 0.8:\n",
    "            h_flag = 0\n",
    "        if cr > 0.2:\n",
    "            l_flag = 0\n",
    "    if h_flag:\n",
    "        h_user_cnt += h_flag\n",
    "        h_user_list.append(u)\n",
    "    if l_flag:\n",
    "        l_user_cnt += l_flag\n",
    "        l_user_list.append(u)\n",
    "        \n",
    "\n",
    "h_user_cnt, l_user_cnt"
   ]
  },
  {
   "cell_type": "code",
   "execution_count": 257,
   "metadata": {},
   "outputs": [
    {
     "data": {
      "text/plain": [
       "723"
      ]
     },
     "execution_count": 257,
     "metadata": {},
     "output_type": "execute_result"
    }
   ],
   "source": [
    "m_user_cnt = len(user_complete_rate_dict.keys()) - h_user_cnt - l_user_cnt\n",
    "m_user_cnt"
   ]
  },
  {
   "cell_type": "code",
   "execution_count": 258,
   "metadata": {},
   "outputs": [
    {
     "data": {
      "image/png": "[encoded data removed]",
      "text/plain": [
       "<Figure size 640x480 with 1 Axes>"
      ]
     },
     "metadata": {},
     "output_type": "display_data"
    }
   ],
   "source": [
    "x = [h_user_cnt, l_user_cnt, m_user_cnt]\n",
    "labels = ['高完成度习惯用户', '低完成度习惯用户', '混合习惯用户']\n",
    "\n",
    "patches, l_txt, p_txt = plt.pie(x=x, labels=labels, autopct='%1.2f%%')\n",
    "for l in l_txt:\n",
    "    l.set_size(12)\n",
    "for p in p_txt:\n",
    "    p.set_size(16)\n",
    "\n",
    "plt.title('用户群体占比图')\n",
    "plt.legend(loc='upper right')\n",
    "plt.show()"
   ]
  },
  {
   "cell_type": "code",
   "execution_count": 259,
   "metadata": {},
   "outputs": [],
   "source": [
    "user_course_video_concept = pd.merge(selected_user_action_df[['user_id', 'course_id', 'video_id', 'start_time']],\n",
    "                                     selected_video_concept, on='video_id')"
   ]
  },
  {
   "cell_type": "code",
   "execution_count": 260,
   "metadata": {},
   "outputs": [],
   "source": [
    "user_course_video_concept = pd.merge(user_course_video_concept, selected_course_info, on='course_id')"
   ]
  },
  {
   "cell_type": "code",
   "execution_count": 261,
   "metadata": {},
   "outputs": [],
   "source": [
    "user_course_video_concept = pd.merge(user_course_video_concept, selected_teacher_course, on='course_id')"
   ]
  }
 ],
 "metadata": {
  "interpreter": {
   "hash": "bd968d6abf2c047296184dbbc45f189439fd5b890e4c7bbb547bde0bbbe65521"
  },
  "kernelspec": {
   "display_name": "Python 3.8.11 ('torch1.9')",
   "language": "python",
   "name": "python3"
  },
  "language_info": {
   "codemirror_mode": {
    "name": "ipython",
    "version": 3
   },
   "file_extension": ".py",
   "mimetype": "text/x-python",
   "name": "python",
   "nbconvert_exporter": "python",
   "pygments_lexer": "ipython3",
   "version": "3.8.11"
  },
  "orig_nbformat": 4
 },
 "nbformat": 4,
 "nbformat_minor": 2
}
